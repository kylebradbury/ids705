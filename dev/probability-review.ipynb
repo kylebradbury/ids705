{
 "cells": [
  {
   "cell_type": "markdown",
   "metadata": {},
   "source": [
    "---\n",
    "title: Probability Review\n",
    "subtitle: A brief refresher of core concepts in probability\n",
    "toc: true\n",
    "toc-expand: 3\n",
    "number-sections: false\n",
    "---"
   ]
  },
  {
   "cell_type": "markdown",
   "metadata": {},
   "source": [
    "## Possible Probability Topics\n",
    "\n",
    "- Basic probabilistic reasoning (example of a fair vs unfair die and how we encode that mathematically adn how that leads to pmfs, etc.)"
   ]
  },
  {
   "cell_type": "markdown",
   "metadata": {},
   "source": [
    "# Possible other topics:\n",
    "\n",
    "- Significant figures"
   ]
  }
 ],
 "metadata": {
  "kernelspec": {
   "display_name": "pds-book",
   "language": "python",
   "name": "python3"
  },
  "language_info": {
   "name": "python",
   "version": "3.12.0"
  }
 },
 "nbformat": 4,
 "nbformat_minor": 2
}
