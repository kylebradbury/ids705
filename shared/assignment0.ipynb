{
 "cells": [
  {
   "cell_type": "markdown",
   "metadata": {},
   "source": [
    "# Assignment 0 - Sample Assignment\n",
    "\n",
    "## Exercise 1 - Derivatives\n",
    "\n",
    "Calculate the following:\n",
    "\n",
    "**1.1.** The first derivative of $f(t) = t^3$.\n",
    "\n",
    "**1.2.** The second derivative of $f(t) = t^3$. \n",
    "\n",
    "**1.3.** Numerically evaluate the second derivative of $f(t) = t^3$ for $t=3$. \n",
    "\n",
    "**1.4.** If $t$ represents time (seconds) and $f$ represents distance of a ball over time (in meters), then what does the second derivative at $t=3$ mean?\n",
    "\n",
    "## Exercise 2 - Plotting\n",
    "\n",
    "**2.1.** Create a plot of the first derivative of $f(t)$ for the values $-2 \\leq t \\leq 1$.\n",
    "\n",
    "**2.2.** What does the first derivative of $f(t)$ for $t=2$ mean in this case?"
   ]
  }
 ],
 "metadata": {
  "kernelspec": {
   "display_name": "pds-book",
   "language": "python",
   "name": "python3"
  },
  "language_info": {
   "codemirror_mode": {
    "name": "ipython",
    "version": 3
   },
   "file_extension": ".py",
   "mimetype": "text/x-python",
   "name": "python",
   "nbconvert_exporter": "python",
   "pygments_lexer": "ipython3",
   "version": "3.12.0"
  }
 },
 "nbformat": 4,
 "nbformat_minor": 2
}
