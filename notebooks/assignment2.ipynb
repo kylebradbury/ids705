{
 "cells": [
  {
   "cell_type": "markdown",
   "metadata": {},
   "source": [
    "---\n",
    "title: Assignment 2\n",
    "subtitle: Supervised Machine Learning Fundamentals\n",
    "author: Kyle Bradbury\n",
    "affiliation: Duke University\n",
    "date: 2025-01-22\n",
    "toc: true\n",
    "toc-expand: 2\n",
    "toc-depth: 2\n",
    "number-sections: false\n",
    "format:\n",
    "  html: default\n",
    "  ipynb: default\n",
    "  pdf:\n",
    "    documentclass: scrartcl\n",
    "    papersize: letter\n",
    "    keep-tex: true\n",
    "    toc: true\n",
    "    toc-depth: 1\n",
    "# format-links:\n",
    "#   - text: Jupyter Notebook\n",
    "#     href: https://github.com/kylebradbury/ids705/blob/main/notebooks/assignment2.ipynb\n",
    "#     icon: journal-code\n",
    "---"
   ]
  },
  {
   "cell_type": "markdown",
   "metadata": {},
   "source": [
    "## Instructions\n",
    "\n",
    "*Instructions for all assignments can be found [here](https://kylebradbury.github.io/ids705/notebooks/assignment_instructions.html). Note: this assignment falls under collaboration Mode 2: Individual Assignment – Collaboration Permitted. Please refer to the syllabus for additional information. Please be sure to list the names of any students that you worked with on this assignment. Total points in the assignment add up to 90; an additional 10 points are allocated to professionalism and presentation quality.*"
   ]
  },
  {
   "cell_type": "markdown",
   "metadata": {},
   "source": [
    "## Learning Objectives:\n",
    "By successfully completing this assignment you will be able to...\n",
    "- Explain the bias-variance tradeoff of supervised machine learning and the impact of model flexibility on algorithm performance\n",
    "- Perform supervised machine learning training and performance evaluation\n",
    "- Implement a k-nearest neighbors machine learning algorithm from scratch in a style similar to that of popular machine learning tools like `scikit-learn`\n",
    "- Describe how KNN classification works, the method's reliance on distance measurements, and the impact of higher dimensionality on computational speed\n",
    "- Apply regression (linear regression) and classification (KNN) supervised learning techniques to data and evaluate the performance of those methods\n",
    "- Construct simple feature transformations for improving model fit in linear models\n",
    "- Fit a `scikit-learn` supervised learning technique to training data and make predictions using it"
   ]
  },
  {
   "cell_type": "markdown",
   "metadata": {},
   "source": [
    "## Exercise 1 - Conceptual Questions on Supervised Learning I\n",
    "**[4 points]**\n",
    "\n",
    "For each part below, indicate whether we would generally expect the performance of a flexible statistical learning method to be *better* or *worse* than an inflexible method. Justify your answer.\n",
    "\n",
    "**1.1.** The sample size $n$ is extremely large, and the number of predictors $p$ is small.\n",
    "\n",
    "**1.2.** The number of predictors $p$ is extremely large, and the number of observations $n$ is small.\n",
    "\n",
    "**1.3.** The relationship between the predictors and response is highly non-linear.\n",
    "\n",
    "**1.4.** The variance of the error terms, i.e. $\\sigma^2 = Var(\\epsilon)$, is extremely high."
   ]
  },
  {
   "attachments": {},
   "cell_type": "markdown",
   "metadata": {},
   "source": [
    "## Exercise 2 - Conceptual Questions on Supervised Learning II\n",
    "\n",
    "**[6 points]**\n",
    "\n",
    "For each of the following, (i) explain if each scenario is a classification or regression problem AND why, (ii) indicate whether we are most interested in inference or prediction for that problem AND why, and (iii) provide the sample size $n$ and number of predictors $p$ indicated for each scenario.\n",
    "\n",
    "**2.1.** We collect a set of data on the top 500 firms in the US. For each firm we record profit, number of employees, industry and the CEO salary. We are interested in understanding which factors affect CEO salary.\n",
    "\n",
    "**2.2.** We are considering launching a new product and wish to know whether it will be a success or a failure. We collect data on 20 similar products that were previously launched. For each product we have recorded whether it was a success or failure, price charged for the product, marketing budget, competition price, and ten other variables.\n",
    "\n",
    "**2.3.** We are interested in predicting the % change in the US dollar in relation to the weekly changes in the world stock markets. Hence we collect weekly data for all of 2012. For each week we record the % change in the dollar, the % change in the US market, the % change in the British market, and the % change in the German market."
   ]
  },
  {
   "cell_type": "markdown",
   "metadata": {},
   "source": [
    "## Exercise 3 - Classification using KNN\n",
    "**[6 points]**\n",
    "\n",
    "The table below provides a training dataset containing six observations (a.k.a. samples) ($n=6$) each with three predictors (a.k.a. features) ($p=3$), and one qualitative response variable (a.k.a. target).\n",
    "\n",
    "*Table 1. Training dataset with $n=6$ observations in $p=3$ dimensions with a categorical response, $y$*\n",
    "\n",
    "| Obs. | $x_1$ | $x_2$ | $x_3$ | $y$   |\n",
    "|------|-------|-------|-------|-------|\n",
    "| **1**| 0     | 3     | 0     | Red   |\n",
    "| **2**| 2     | 0     | 0     | Red   |\n",
    "| **3**| 0     | 1     | 3     | Red   |\n",
    "| **4**| 0     | 1     | 2     | Blue  |\n",
    "| **5**| -1    | 0     | 1     | Blue  |\n",
    "| **6**| 1     | 1     | 1     | Red   |\n",
    "\n",
    "We want to use the above training dataset to make a prediction, $\\hat{y}$, for an unlabeled test data observation where $x_1=x_2=x_3=0$ using $K$-nearest neighbors. You are given some code below to get you started. *Note: coding is only required for part (a), for (b)-(d) please provide your reasoning based on your answer to part (a)*.\n",
    "\n",
    "**3.1.** Compute the Euclidean distance between each observation and the test point, $x_1=x_2=x_3=0$. Present your answer in a table similar in style to Table 1 with observations 1-6 as the row headers.\n",
    "\n",
    "**3.2.** What is our prediction, $\\hat{y}$, when $K=1$ for the test point? Why?\n",
    "\n",
    "**3.3.** What is our prediction, $\\hat{y}$, when $K=3$ for the test point? Why?\n",
    "\n",
    "**3.4.** If the Bayes decision boundary (the optimal decision boundary) in this problem is highly nonlinear, then would we expect the *best* value of $K$ to be large or small? Why?"
   ]
  },
  {
   "cell_type": "code",
   "execution_count": 8,
   "metadata": {},
   "outputs": [],
   "source": [
    "import numpy as np\n",
    "\n",
    "X = np.array([[ 0, 3, 0],\n",
    "              [ 2, 0, 0],\n",
    "              [ 0, 1, 3],\n",
    "              [ 0, 1, 2],\n",
    "              [-1, 0, 1],\n",
    "              [ 1, 1, 1]])\n",
    "y = np.array(['r','r','r','b','b','r'])"
   ]
  },
  {
   "attachments": {},
   "cell_type": "markdown",
   "metadata": {},
   "source": [
    "## Exercise 4 - Build your own classification algorithm\n",
    "**[18 points]**\n",
    "\n",
    "::: {.callout-note}\n",
    "[Data for this exercise can be downloaded here](https://github.com/kylebradbury/ids705/tree/main/notebooks/data/a1)\n",
    ":::\n",
    "\n",
    "**4.1.** Build a working version of a binary KNN classifier using the skeleton code below. We'll use the `sklearn` convention that a supervised learning algorithm has the methods `fit` which trains your algorithm (for KNN that means storing the data) and `predict` which identifies the K nearest neighbors and determines the most common class among those K neighbors. *Note: Most classification algorithms typically also have a method `predict_proba` which outputs the confidence score of each prediction, but we will explore that in a later assignment. Please use `NumPy` to implement euclidean distance function.*\n",
    "\n",
    "**4.2.** Load the datasets to be evaluated here. Each includes training features ($\\mathbf{X}$), and test features ($\\mathbf{y}$) for both a low dimensional dataset ($p = 2$ features/predictors) and a higher dimensional dataset ($p = 100$ features/predictors). For each of these datasets there are $n=1000$ observations of each. They can be found in the data subfolder on github (see link above). Each file is labeled similar to `A2_Q4_X_train_low.csv`, which lets you know whether the dataset is of features, $X$, targets, $y$; training or testing; and low or high dimensions.\n",
    "\n",
    "**4.3.** Train your classifier on first the low dimensional dataset and then the high dimensional dataset with $k=5$. Evaluate the classification performance on the corresponding test data for each of those trained models. Calculate the time it takes each model to make the predictions and the overall accuracy of those predictions for each corresponding set of test data - state each.\n",
    "\n",
    "**4.4.** Compare your implementation's accuracy and computation time to the scikit learn [KNeighborsClassifier](http://scikit-learn.org/stable/modules/generated/sklearn.neighbors.KNeighborsClassifier.html) class. How do the results and speed compare to your implementation? *Hint: your results should be identical to that of the scikit-learn implementation.*\n",
    "\n",
    "**4.5.** Some supervised learning algorithms are more computationally intensive during training than testing. What are the drawbacks of the prediction process being slow? In what cases in practice might slow testing (inference) be more problematic than slow training?"
   ]
  },
  {
   "cell_type": "code",
   "execution_count": null,
   "metadata": {},
   "outputs": [],
   "source": [
    "# Skeleton code for part (a) to write your own kNN classifier\n",
    "\n",
    "class Knn:\n",
    "# k-Nearest Neighbor class object for classification training and testing\n",
    "    def __init__(self):\n",
    "        \n",
    "    def fit(self, x, y):\n",
    "        # Save the training data to properties of this class\n",
    "        \n",
    "    def predict(self, x, k):\n",
    "        y_hat = [] # Variable to store the estimated class label for \n",
    "        # Calculate the distance from each vector in x to the training data\n",
    "        \n",
    "        # Return the estimated targets\n",
    "        return y_hat\n",
    "\n",
    "# Metric of overall classification accuracy\n",
    "#  (a more general function, sklearn.metrics.accuracy_score, is also available)\n",
    "def accuracy(y,y_hat):\n",
    "    nvalues = len(y)\n",
    "    accuracy = sum(y == y_hat) / nvalues\n",
    "    return accuracy"
   ]
  },
  {
   "attachments": {},
   "cell_type": "markdown",
   "metadata": {},
   "source": [
    "## Exercise 5 - Bias-variance tradeoff: exploring the tradeoff with a KNN classifier\n",
    "**[20 points]**\n",
    "\n",
    "This exercise will illustrate the impact of the bias-variance tradeoff on classifier performance by investigating how model flexibility impacts classifier decision boundaries. For this problem, please us Scikit-learn's KNN implementation rather than your own implementation, as you did at the end of the last question.\n",
    "\n",
    "**5.1.** Create a synthetic dataset (with both features and targets). Use the [`make_moons`](http://scikit-learn.org/stable/modules/generated/sklearn.datasets.make_moons.html#sklearn.datasets.make_moons) module with the parameter `noise=0.35` to generate 1000 random samples.\n",
    "\n",
    "**5.2.** Visualize your data: scatterplot your random samples with each class in a different color.\n",
    "\n",
    "**5.3.** Create 3 different data subsets by selecting 100 of the 1000 data points at random three times (with replacement). For each of these 100-sample datasets, fit three separate k-Nearest Neighbor classifiers with: $k = \\{1, 25, 50\\}$. This will result in 9 combinations (3 datasets, each with 3 trained classifiers).\n",
    "\n",
    "**5.4.** For each combination of dataset and trained classifier plot the decision boundary (similar in style to Figure 2.15 from *Introduction to Statistical Learning*). This should form a 3-by-3 grid. Each column should represent a different value of $k$ and each row should represent a different dataset. \n",
    "\n",
    "**5.5.** What do you notice about the difference between the decision boundaries in the rows and the columns in your figure? Which decision boundaries appear to best separate the two classes of data with respect to the training data? Which decision boundaries vary the most as the training data change? Which decision boundaries do you anticipate will generalize best to unseen data and why?\n",
    "\n",
    "**5.6.** Explain the bias-variance tradeoff using the example of the plots you made in this exercise and its implications for training supervised machine learning algorithms.\n",
    "\n",
    "Notes and tips for plotting decision boundaries (as in part 5.4):\n",
    "- *Resource for plotting decision boundaries with meshgrid and contour: https://scikit-learn.org/stable/auto_examples/neighbors/plot_classification.html*\n",
    "- If you would like to change the colors of the background, and do not like any of the existing cmap available in matplotlib, you can make your own cmap using the 2 sets of rgb values. Sample code (replace r, g, b with respective rgb values):"
   ]
  },
  {
   "cell_type": "code",
   "execution_count": null,
   "metadata": {},
   "outputs": [],
   "source": [
    "from matplotlib.colors import LinearSegmentedColormap\n",
    "newcmp = LinearSegmentedColormap.from_list(\"new\", [(r/255, g/255, b/255), (r/255, g/255, b/255)], N=2)"
   ]
  },
  {
   "attachments": {},
   "cell_type": "markdown",
   "metadata": {},
   "source": [
    "## Exercise 6 - Bias-variance trade-off II: Quantifying the tradeoff\n",
    "**[18 points]**\n",
    "\n",
    "This exercise explores the impact of the bias-variance tradeoff on classifier performance by looking at the performance on both training and test data.\n",
    "\n",
    "Here, the value of $k$ determines how flexible our model is.\n",
    "\n",
    "**6.1.** Using the function created earlier to generate random samples (using the `make_moons` function setting the `noise` parameter to 0.35), create a new set of 1000 random samples, and call this dataset your test set and the previously created dataset your training set.\n",
    "\n",
    "**6.2.** Train a kNN classifier on your training set for $k = 1,2,...500$. Apply each of these trained classifiers to both your training dataset and your test dataset and plot the classification error (fraction of incorrect predictions).\n",
    "\n",
    "**6.3.** What trend do you see in the results?\n",
    "\n",
    "**6.4.** What values of $k$ represent high bias and which represent high variance?\n",
    "\n",
    "**6.5.** What is the optimal value of $k$ and why?\n",
    "\n",
    "**6.6.** In KNN classifiers, the value of k controls the flexibility of the model - what controls the flexibility of other models?"
   ]
  },
  {
   "attachments": {},
   "cell_type": "markdown",
   "metadata": {},
   "source": [
    "## Exercise 7 - Linear regression and nonlinear transformations\n",
    "**[18 points]**\n",
    "\n",
    "::: {.callout-note}\n",
    "[Data for this exercise can be downloaded here](https://github.com/kylebradbury/ids705/tree/main/notebooks/data/a1)\n",
    ":::\n",
    "\n",
    "Linear regression can be used to model nonlinear relationships when feature variables are properly transformed to represent the nonlinearities in the data folder. In this exercise, you're given training and test data contained in files \"A2_Q7_train.csv\" and \"A2_Q7_test.csv\" in the data. Your goal is to develop a regression algorithm from the training data that performs well on the test data.\n",
    "\n",
    "*Hint: Use the scikit learn [LinearRegression](http://scikit-learn.org/stable/modules/generated/sklearn.linear_model.LinearRegression.html) module.*\n",
    "\n",
    "**7.1.** Create a scatter plot of your training data.\n",
    "\n",
    "**7.2.** Estimate a linear regression model ($y = a_0 + a_1 x$) for the training data and calculate both the $R^2$ value and mean square error for the fit of that model for the training data. Also provide the equation representing the estimated model (e.g. $y = a_0 + a_1 x$, but with the estimated coefficients inserted. Consider this your baseline model against which you will compare other model options. *Evaluating performance on the training data is not a measure of how well this model would generalize to unseen data. We will evaluate performance on the test data once we see our models fit the training data decently well.*  \n",
    "\n",
    "**7.3.** If features can be nonlinearly transformed, a linear model may incorporate those non-linear feature transformation relationships in the training process. From looking at the scatter plot of the training data, choose a transformation of the predictor variable, $x$ that may make sense for these data. This will be a multiple regression model of the form $y = a_0 + a_1 z_1 + a_2 z_2 + \\ldots + a_n z_n$. Here $z_i$ could be any transformations of x - perhaps it's $\\frac{1}{x}$, $log(x)$, $sin(x)$, $x^k$ (where $k$ is any power of your choosing). Provide the estimated equation for this multiple regression model (e.g. if you chose your predictors to be $z_1 = x$ and $z_2 = log(x)$, your model would be of the form $y = a_0 + a_1 x + a_2 log(x)$. Also provide the $R^2$ and mean square error of the fit for the training data.\n",
    "\n",
    "**7.4.** Visualize the model fit to the training data. Using both of the models you created in parts (b) and (c), plot the original data (as a scatter plot) AND the curves representing your models (each as a separate curve) from (b) and (c).\n",
    "\n",
    "**7.5.** Now its time to compare your models and evaluate the generalization performance on held out test data. Using the models above from (b) an (c), apply them to the test data and estimate the $R^2$ and mean square error of the test dataset.\n",
    "\n",
    "**7.6.** Which models perform better on the training data, and which on the test data? Why?\n",
    "\n",
    "**7.7.** Imagine that the test data were significantly different from the training dataset. How might this affect the predictive capability of your model? How would the accuracy of generalization performance be impacted? Why?\n",
    "\n",
    "*To help get you started - here's some code to help you load in the data for this exercise (you'll just need to update the path)*:"
   ]
  },
  {
   "cell_type": "code",
   "execution_count": 20,
   "metadata": {},
   "outputs": [],
   "source": [
    "import numpy as np\n",
    "import pandas as pd\n",
    "\n",
    "path = './data/a2'\n",
    "train = pd.read_csv(path + 'A2_Q7_train.csv')\n",
    "test = pd.read_csv(path + 'A2_Q7_test.csv')\n",
    "\n",
    "x_train = train.x.values\n",
    "y_train = train.y.values\n",
    "\n",
    "x_test = test.x.values\n",
    "y_test = test.y.values"
   ]
  }
 ],
 "metadata": {
  "kernelspec": {
   "display_name": "base",
   "language": "python",
   "name": "python3"
  },
  "language_info": {
   "codemirror_mode": {
    "name": "ipython",
    "version": 3
   },
   "file_extension": ".py",
   "mimetype": "text/x-python",
   "name": "python",
   "nbconvert_exporter": "python",
   "pygments_lexer": "ipython3",
   "version": "3.6.5"
  },
  "varInspector": {
   "cols": {
    "lenName": 16,
    "lenType": 16,
    "lenVar": 40
   },
   "kernels_config": {
    "python": {
     "delete_cmd_postfix": "",
     "delete_cmd_prefix": "del ",
     "library": "var_list.py",
     "varRefreshCmd": "print(var_dic_list())"
    },
    "r": {
     "delete_cmd_postfix": ") ",
     "delete_cmd_prefix": "rm(",
     "library": "var_list.r",
     "varRefreshCmd": "cat(var_dic_list()) "
    }
   },
   "types_to_exclude": [
    "module",
    "function",
    "builtin_function_or_method",
    "instance",
    "_Feature"
   ],
   "window_display": false
  },
  "vscode": {
   "interpreter": {
    "hash": "f54e0b9f92ceb50229b3b7ea26b5d02f05ce8845dd8d997c014a0efede4c9c20"
   }
  }
 },
 "nbformat": 4,
 "nbformat_minor": 4
}
